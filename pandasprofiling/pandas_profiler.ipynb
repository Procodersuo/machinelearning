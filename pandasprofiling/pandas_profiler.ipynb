{
 "cells": [
  {
   "cell_type": "code",
   "execution_count": null,
   "id": "55c5f696",
   "metadata": {},
   "outputs": [
    {
     "name": "stderr",
     "output_type": "stream",
     "text": [
      "c:\\Users\\Lenovo\\AppData\\Local\\Programs\\Python\\Python310\\lib\\site-packages\\tqdm\\auto.py:21: TqdmWarning: IProgress not found. Please update jupyter and ipywidgets. See https://ipywidgets.readthedocs.io/en/stable/user_install.html\n",
      "  from .autonotebook import tqdm as notebook_tqdm\n"
     ]
    },
    {
     "data": {
      "text/html": [
       "\n",
       "            <div>\n",
       "                <ins><a href=\"https://ydata.ai/register\">Upgrade to ydata-sdk</a></ins>\n",
       "                <p>\n",
       "                    Improve your data and profiling with ydata-sdk, featuring data quality scoring, redundancy detection, outlier identification, text validation, and synthetic data generation.\n",
       "                </p>\n",
       "            </div>\n",
       "            "
      ],
      "text/plain": [
       "<IPython.core.display.HTML object>"
      ]
     },
     "metadata": {},
     "output_type": "display_data"
    }
   ],
   "source": [
    "\n",
    "from ydata_profiling import ProfileReport"
   ]
  },
  {
   "cell_type": "code",
   "execution_count": 9,
   "id": "eec2e236",
   "metadata": {},
   "outputs": [],
   "source": [
    "import seaborn as sns\n",
    "titanic=sns.load_dataset(\"titanic\")\n",
    "\n"
   ]
  },
  {
   "cell_type": "code",
   "execution_count": 5,
   "id": "44711071",
   "metadata": {},
   "outputs": [
    {
     "name": "stderr",
     "output_type": "stream",
     "text": [
      "100%|██████████| 15/15 [00:00<00:00, 21.84it/s]1<00:00, 20.54it/s, Describe variable: alone]     \n",
      "Summarize dataset: 100%|██████████| 41/41 [00:08<00:00,  4.97it/s, Completed]                 \n",
      "Generate report structure: 100%|██████████| 1/1 [00:04<00:00,  4.58s/it]\n",
      "Render HTML: 100%|██████████| 1/1 [00:06<00:00,  6.52s/it]\n",
      "Export report to file: 100%|██████████| 1/1 [00:00<00:00, 83.26it/s]\n"
     ]
    }
   ],
   "source": [
    "profile=ProfileReport(titanic, title=\"Pandas Profiling Report\", explorative=True)\n",
    "profile.to_file(output_file=\"datareport.html\")\n",
    "\n"
   ]
  },
  {
   "cell_type": "code",
   "execution_count": null,
   "id": "a856150f",
   "metadata": {},
   "outputs": [],
   "source": []
  }
 ],
 "metadata": {
  "kernelspec": {
   "display_name": "Python 3",
   "language": "python",
   "name": "python3"
  },
  "language_info": {
   "codemirror_mode": {
    "name": "ipython",
    "version": 3
   },
   "file_extension": ".py",
   "mimetype": "text/x-python",
   "name": "python",
   "nbconvert_exporter": "python",
   "pygments_lexer": "ipython3",
   "version": "3.10.5"
  }
 },
 "nbformat": 4,
 "nbformat_minor": 5
}
